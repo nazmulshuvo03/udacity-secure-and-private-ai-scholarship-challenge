{
 "cells": [
  {
   "cell_type": "markdown",
   "metadata": {
    "colab_type": "text",
    "id": "fett7JsXHNzC"
   },
   "source": [
    "# **Differential Privacy Notebook Example.**\n",
    "\n",
    "This notebook implements the first Project (Week 6) of the Private AI Facebook Scholarship run by Udacity. \n",
    "\n",
    "The idea is to demonstrate the PATE analysis that comes from this paper: https://arxiv.org/pdf/1802.08908.pdf\n",
    "\n",
    "What are we doing? Suppose you are an organization with a DataSet of unlabeled data. You want to train an AI supervised model over this data, but the lack of labels is a problem. Some number X of organizations (Teachers) has data that could help you label your DataSet, but this data is private. \n",
    "\n",
    "We can train a model inside every organization, so we end up with X models that can then predict the data that our organization holds and give us the labels for our model. Even if the model is trained inside every organization, the definition of Differential Privacy states that it could be data leakage. So we perform a noisy mechanism over the X predictions to protect with  (ǫ, δ)-differential privacy the results. \n",
    "\n",
    "In the end, we compare the data independent and dependent Epsilon spent in the analysis and how different Hyperparameters can increase or reduce this difference.\n",
    "\n",
    "Greatly inspire by: https://github.com/dimun/pate_torch/blob/master/PATE.ipynb"
   ]
  },
  {
   "cell_type": "code",
   "execution_count": 1,
   "metadata": {
    "colab": {},
    "colab_type": "code",
    "id": "WCeaeD7aN1Ee"
   },
   "outputs": [],
   "source": [
    "import torchvision.datasets as datasets\n",
    "import torchvision.transforms as transforms\n",
    "import torch.nn as nn\n",
    "import torch.nn.functional as F\n",
    "import torch.optim as optim\n",
    "import torch\n",
    "from torch.utils.data.sampler import SubsetRandomSampler\n",
    "import numpy as np\n",
    "from IPython.display import clear_output"
   ]
  },
  {
   "cell_type": "markdown",
   "metadata": {
    "colab_type": "text",
    "id": "sPHYiKynKzU2"
   },
   "source": [
    "# Here we define two classes:\n",
    "\n",
    "**The teacher** is going to be one organization with their data and their model. In theory, we could use different models in every organization. \n",
    "\n",
    "**The model** is the class that represents the models that we're performing. It's built in PyTorch"
   ]
  },
  {
   "cell_type": "code",
   "execution_count": 2,
   "metadata": {
    "colab": {},
    "colab_type": "code",
    "id": "RSQutMrUN-nd"
   },
   "outputs": [],
   "source": [
    "class teacher():\n",
    "    def __init__(self, dataL, device, batch_size = 32, epochs=5, print_every=120):\n",
    "        self.dataLoader = dataL\n",
    "        self.model = t_model()\n",
    "        self.criterion = nn.NLLLoss()\n",
    "        self.optimizer = optim.Adam(self.model.parameters(), lr=0.003)\n",
    "        self.epochs = epochs\n",
    "        self.dbug = print_every\n",
    "        self.device =  device\n",
    "\n",
    "        \n",
    "    def train(self):\n",
    "        self.model.to(self.device)\n",
    "        #print('Aqui voy!')\n",
    "        steps = 0\n",
    "        running_loss = 0\n",
    "        accuracy = 0\n",
    "        for e in range(self.epochs):\n",
    "            # Model in training mode, dropout is on\n",
    "            self.model.train()\n",
    "            accuracy=0\n",
    "            running_loss = 0\n",
    "            for images, labels in self.dataLoader:\n",
    "\n",
    "                images, labels = images.to(self.device), labels.to(self.device)\n",
    "                steps += 1\n",
    "\n",
    "                self.optimizer.zero_grad()\n",
    "\n",
    "                output = self.model.forward(images)\n",
    "                loss = self.criterion(output, labels)\n",
    "                loss.backward()\n",
    "                self.optimizer.step()            \n",
    "                running_loss += loss.item()          \n",
    "                ps = torch.exp(output)\n",
    "                top_p, top_class = ps.topk(1, dim=1)\n",
    "                equals = top_class == labels.view(*top_class.shape)\n",
    "                accuracy += torch.mean(equals.type(torch.FloatTensor))\n",
    "            #if(e == self.epochs -1 or e==0):\n",
    "             #   print(\"Epoch: {}/{}.. \".format(e+1, self.epochs),\n",
    "              #    \"Training Loss: {:.3f}.. \".format(running_loss/len(self.dataLoader)),              \n",
    "              #    \"Train Accuracy: {:.3f}\".format(accuracy/len(self.dataLoader)))\n",
    "        return accuracy/len(self.dataLoader)\n",
    "\n",
    "\n",
    "    def eval(self, dataLoader):  \n",
    "        outputs = torch.zeros(0, dtype=torch.long).to(self.device)\n",
    "        self.model.to(self.device)\n",
    "        # Model in test mode, dropout is off\n",
    "        self.model.eval()\n",
    "        result=[]\n",
    "        for images, labels in dataLoader:\n",
    "            images, labels = images.to(self.device), labels.to(self.device)\n",
    "            output = self.model.forward(images)\n",
    "            ps = torch.argmax(torch.exp(output), dim=1)\n",
    "            outputs = torch.cat((outputs, ps))\n",
    "        return outputs\n",
    "\n",
    "  \n",
    "  \n",
    "class t_model(nn.Module):\n",
    "    def __init__(self):\n",
    "        super(t_model, self).__init__()\n",
    "        self.conv1 = nn.Conv2d(1, 10, kernel_size=5)\n",
    "        self.conv2 = nn.Conv2d(10, 20, kernel_size=5)\n",
    "        self.conv2_drop = nn.Dropout2d()\n",
    "        self.fc1 = nn.Linear(320, 50)\n",
    "        self.fc2 = nn.Linear(50, 10)\n",
    "\n",
    "    def forward(self, x):\n",
    "        x = F.relu(F.max_pool2d(self.conv1(x), 2))\n",
    "        x = F.relu(F.max_pool2d(self.conv2_drop(self.conv2(x)), 2))\n",
    "        x = x.view(-1, 320)\n",
    "        x = F.relu(self.fc1(x))\n",
    "        x = F.dropout(x, training=self.training)\n",
    "        x = self.fc2(x)\n",
    "        return F.log_softmax(x)"
   ]
  },
  {
   "cell_type": "markdown",
   "metadata": {
    "colab_type": "text",
    "id": "AghY1hOFLY2M"
   },
   "source": [
    "Then we import the MNIST dataset and define the number of teachers that we want to train."
   ]
  },
  {
   "cell_type": "code",
   "execution_count": 3,
   "metadata": {
    "colab": {
     "base_uri": "https://localhost:8080/",
     "height": 287
    },
    "colab_type": "code",
    "id": "DHYrDQEjOH8d",
    "outputId": "0cef3a6e-b005-407a-c361-27554ca46097"
   },
   "outputs": [],
   "source": [
    "transform = transforms.Compose([transforms.ToTensor(),transforms.Normalize((0.5, ), (0.5,))])\n",
    "mnist_trainset = datasets.MNIST(root='./data', train=True, download=True, transform=transform)\n",
    "mnist_testset = datasets.MNIST(root='./data', train=False, download=True, transform=transform)\n",
    "device =  torch.device(\"cuda:0\"\"cuda:0\" if torch.cuda.is_available() else \"cpu\")\n",
    "num_teachers = 100\n",
    "train_len = len(mnist_trainset)\n",
    "test_len = len(mnist_testset)"
   ]
  },
  {
   "cell_type": "markdown",
   "metadata": {
    "colab_type": "text",
    "id": "0SxjXVzfLxaO"
   },
   "source": [
    "The function get_samples() subsets the data so every teacher has a unique and separate DataSet.\n",
    "\n",
    "The funciont create_teachers() creates the teachers with their own data and model."
   ]
  },
  {
   "cell_type": "code",
   "execution_count": 4,
   "metadata": {
    "colab": {},
    "colab_type": "code",
    "id": "470-uNzlOL2h"
   },
   "outputs": [],
   "source": [
    "def get_samples(num_teachers):\n",
    "    tam = len(mnist_trainset)\n",
    "    split= int(tam/num_teachers)\n",
    "    split_ini = split\n",
    "    indices = list(range(tam))\n",
    "    init=0\n",
    "    samples = []\n",
    "    for i in range(num_teachers):     \n",
    "        t_idx = indices[init:split]\n",
    "        t_sampler = SubsetRandomSampler(t_idx)\n",
    "        samples.append(t_sampler)\n",
    "        init = split\n",
    "        split = split+split_ini\n",
    "    return samples\n",
    "def create_teachers(samples):\n",
    "    teachers = []\n",
    "    for sample in samples:\n",
    "        loader = torch.utils.data.DataLoader(mnist_trainset, batch_size=32, sampler=sample)\n",
    "        t = teacher(loader, device)\n",
    "        teachers.append(t)    \n",
    "    return teachers"
   ]
  },
  {
   "cell_type": "code",
   "execution_count": 5,
   "metadata": {
    "colab": {},
    "colab_type": "code",
    "id": "LaS6JikgOaJM"
   },
   "outputs": [],
   "source": [
    "samples = get_samples(num_teachers)\n",
    "teachers = create_teachers(samples)"
   ]
  },
  {
   "cell_type": "code",
   "execution_count": 6,
   "metadata": {
    "colab": {},
    "colab_type": "code",
    "id": "YTZILVeaOtgh"
   },
   "outputs": [],
   "source": [
    "def train_teachers(teachers):\n",
    "    accuracy = []\n",
    "    for key, teacher in enumerate(teachers):\n",
    "        accuracy.append(teacher.train())\n",
    "        clear_output()\n",
    "        print('Teacher ', key)\n",
    "    return accuracy\n"
   ]
  },
  {
   "cell_type": "code",
   "execution_count": 7,
   "metadata": {
    "colab": {
     "base_uri": "https://localhost:8080/",
     "height": 53
    },
    "colab_type": "code",
    "id": "5Fz3iofHTMD-",
    "outputId": "4b1c12f7-12b1-41db-d735-92b5f1911db8"
   },
   "outputs": [
    {
     "name": "stdout",
     "output_type": "stream",
     "text": [
      "Teacher  99\n",
      "The accuracy mean of all teachers is:  0.7358553\n"
     ]
    }
   ],
   "source": [
    "ac = train_teachers(teachers)\n",
    "print('The accuracy mean of all teachers is: ', np.mean(ac))"
   ]
  },
  {
   "cell_type": "markdown",
   "metadata": {
    "colab_type": "text",
    "id": "_-TCXLqDL_Me"
   },
   "source": [
    "eval_data() takes all the teachers and applies the trained models to our public data in order to obtein the labels.\n",
    "\n",
    "Function mechanism() applies Laplace mechanism to the predicted data that comes from the teachers in order to ensure (ǫ, δ)-differential privacy "
   ]
  },
  {
   "cell_type": "code",
   "execution_count": 8,
   "metadata": {
    "colab": {},
    "colab_type": "code",
    "id": "vX8iiVO-TKGC"
   },
   "outputs": [],
   "source": [
    "epsilon = 0.2\n",
    "def eval_data(teachers, mnist_testset):\n",
    "    preds = torch.torch.zeros((num_teachers, test_len), dtype=torch.long)\n",
    "    loader = torch.utils.data.DataLoader(mnist_testset, batch_size=32)\n",
    "    for key, teacher in enumerate(teachers):\n",
    "        clear_output()\n",
    "        print('Teacher:', key)      \n",
    "        result = teacher.eval(loader)\n",
    "        preds[key] = result\n",
    "    return preds.numpy()\n",
    "def mechanism(preds, epsilon=0.2):  \n",
    "    beta = 1 / epsilon\n",
    "    labels = np.array([]).astype(int)\n",
    "    for image_preds in np.transpose(preds):\n",
    "        label_counts = np.bincount(image_preds, minlength=10)\n",
    "        ori_label_counts = np.bincount(image_preds, minlength=10)\n",
    "        for i in range(10):\n",
    "            label_counts[i] += np.random.laplace(0, beta, 1)\n",
    "    new_label = np.argmax(label_counts)\n",
    "    labels = np.append(labels, new_label)\n",
    "    return labels"
   ]
  },
  {
   "cell_type": "code",
   "execution_count": 14,
   "metadata": {
    "colab": {
     "base_uri": "https://localhost:8080/",
     "height": 35
    },
    "colab_type": "code",
    "id": "5-ifS_QuQ-N2",
    "outputId": "37bdb00b-4c15-4c4e-b08b-e0584b2ed779"
   },
   "outputs": [
    {
     "name": "stdout",
     "output_type": "stream",
     "text": [
      "Teacher: 99\n"
     ]
    }
   ],
   "source": [
    "preds = eval_data(teachers, mnist_testset)\n",
    "labels = mechanism(preds, epsilon)\n"
   ]
  },
  {
   "cell_type": "code",
   "execution_count": 22,
   "metadata": {},
   "outputs": [
    {
     "data": {
      "text/plain": [
       "((100, 10000), (1,))"
      ]
     },
     "execution_count": 22,
     "metadata": {},
     "output_type": "execute_result"
    }
   ],
   "source": [
    "preds.shape, labels.shape"
   ]
  },
  {
   "cell_type": "code",
   "execution_count": 16,
   "metadata": {
    "colab": {
     "base_uri": "https://localhost:8080/",
     "height": 1000
    },
    "colab_type": "code",
    "id": "qrjWBuKCO0lg",
    "outputId": "4d3bcb4b-c28e-4a06-bb40-97f110131010"
   },
   "outputs": [],
   "source": [
    "#!pip install syft\n",
    "from syft.frameworks.torch.differential_privacy import pate"
   ]
  },
  {
   "cell_type": "markdown",
   "metadata": {
    "colab_type": "text",
    "id": "wLpRMC_xMg84"
   },
   "source": [
    "Then we perform the PATE analysis. This analysis shows us that when for one observation the models have come to an agreement, is less the amount of data that could be leaked about the original observation that if the models are less in agreement.\n",
    "\n",
    "This means that for more teachers, better model architectures, more epochs, more data (In general, anything that could improve the accuracy of the individual models so they can have a better agreement) the data dependent Epsilon is going to be much less than the data independent one. "
   ]
  },
  {
   "cell_type": "code",
   "execution_count": 17,
   "metadata": {
    "colab": {
     "base_uri": "https://localhost:8080/",
     "height": 53
    },
    "colab_type": "code",
    "id": "k7-Pgj_vntqk",
    "outputId": "983d8962-4874-48ec-aa65-57fc183c9d05"
   },
   "outputs": [
    {
     "ename": "AssertionError",
     "evalue": "",
     "output_type": "error",
     "traceback": [
      "\u001b[0;31m---------------------------------------------------------------------------\u001b[0m",
      "\u001b[0;31mAssertionError\u001b[0m                            Traceback (most recent call last)",
      "\u001b[0;32m<ipython-input-17-3467abba1866>\u001b[0m in \u001b[0;36m<module>\u001b[0;34m()\u001b[0m\n\u001b[0;32m----> 1\u001b[0;31m \u001b[0mdata_dep_eps\u001b[0m\u001b[0;34m,\u001b[0m \u001b[0mdata_ind_eps\u001b[0m \u001b[0;34m=\u001b[0m \u001b[0mpate\u001b[0m\u001b[0;34m.\u001b[0m\u001b[0mperform_analysis\u001b[0m\u001b[0;34m(\u001b[0m\u001b[0mteacher_preds\u001b[0m\u001b[0;34m=\u001b[0m\u001b[0mpreds\u001b[0m\u001b[0;34m,\u001b[0m \u001b[0mindices\u001b[0m\u001b[0;34m=\u001b[0m\u001b[0mlabels\u001b[0m\u001b[0;34m,\u001b[0m \u001b[0mnoise_eps\u001b[0m\u001b[0;34m=\u001b[0m\u001b[0mepsilon\u001b[0m\u001b[0;34m,\u001b[0m \u001b[0mdelta\u001b[0m\u001b[0;34m=\u001b[0m\u001b[0;36m1e-5\u001b[0m\u001b[0;34m)\u001b[0m\u001b[0;34m\u001b[0m\u001b[0m\n\u001b[0m\u001b[1;32m      2\u001b[0m \u001b[0mprint\u001b[0m\u001b[0;34m(\u001b[0m\u001b[0;34m\"Data Independent Epsilon:\"\u001b[0m\u001b[0;34m,\u001b[0m \u001b[0mdata_ind_eps\u001b[0m\u001b[0;34m)\u001b[0m\u001b[0;34m\u001b[0m\u001b[0m\n\u001b[1;32m      3\u001b[0m \u001b[0mprint\u001b[0m\u001b[0;34m(\u001b[0m\u001b[0;34m\"Data Dependent Epsilon:\"\u001b[0m\u001b[0;34m,\u001b[0m \u001b[0mdata_dep_eps\u001b[0m\u001b[0;34m)\u001b[0m\u001b[0;34m\u001b[0m\u001b[0m\n",
      "\u001b[0;32m~/.local/lib/python3.6/site-packages/syft/frameworks/torch/differential_privacy/pate.py\u001b[0m in \u001b[0;36mperform_analysis\u001b[0;34m(teacher_preds, indices, noise_eps, delta, moments, beta)\u001b[0m\n\u001b[1;32m    216\u001b[0m     \u001b[0mnum_labels\u001b[0m \u001b[0;34m=\u001b[0m \u001b[0mlen\u001b[0m\u001b[0;34m(\u001b[0m\u001b[0mlabels\u001b[0m\u001b[0;34m)\u001b[0m\u001b[0;34m\u001b[0m\u001b[0m\n\u001b[1;32m    217\u001b[0m \u001b[0;34m\u001b[0m\u001b[0m\n\u001b[0;32m--> 218\u001b[0;31m     \u001b[0;32massert\u001b[0m \u001b[0mnum_examples\u001b[0m \u001b[0;34m==\u001b[0m \u001b[0m_num_examples\u001b[0m\u001b[0;34m\u001b[0m\u001b[0m\n\u001b[0m\u001b[1;32m    219\u001b[0m \u001b[0;34m\u001b[0m\u001b[0m\n\u001b[1;32m    220\u001b[0m     \u001b[0mcounts_mat\u001b[0m \u001b[0;34m=\u001b[0m \u001b[0mnp\u001b[0m\u001b[0;34m.\u001b[0m\u001b[0mzeros\u001b[0m\u001b[0;34m(\u001b[0m\u001b[0;34m(\u001b[0m\u001b[0mnum_examples\u001b[0m\u001b[0;34m,\u001b[0m \u001b[0mnum_labels\u001b[0m\u001b[0;34m)\u001b[0m\u001b[0;34m)\u001b[0m\u001b[0;34m\u001b[0m\u001b[0m\n",
      "\u001b[0;31mAssertionError\u001b[0m: "
     ]
    }
   ],
   "source": [
    "data_dep_eps, data_ind_eps = pate.perform_analysis(teacher_preds=preds, indices=labels, noise_eps=epsilon, delta=1e-5)\n",
    "print(\"Data Independent Epsilon:\", data_ind_eps)\n",
    "print(\"Data Dependent Epsilon:\", data_dep_eps)"
   ]
  },
  {
   "cell_type": "code",
   "execution_count": null,
   "metadata": {
    "colab": {},
    "colab_type": "code",
    "id": "Yj7Kc-YFBtT7"
   },
   "outputs": [],
   "source": []
  }
 ],
 "metadata": {
  "colab": {
   "collapsed_sections": [],
   "name": "Differential Privacy",
   "provenance": [],
   "version": "0.3.2"
  },
  "kernelspec": {
   "display_name": "Python 3",
   "language": "python",
   "name": "python3"
  },
  "language_info": {
   "codemirror_mode": {
    "name": "ipython",
    "version": 3
   },
   "file_extension": ".py",
   "mimetype": "text/x-python",
   "name": "python",
   "nbconvert_exporter": "python",
   "pygments_lexer": "ipython3",
   "version": "3.6.5"
  }
 },
 "nbformat": 4,
 "nbformat_minor": 1
}
