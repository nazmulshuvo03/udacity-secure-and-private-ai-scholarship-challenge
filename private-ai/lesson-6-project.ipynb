{
 "cells": [
  {
   "cell_type": "code",
   "execution_count": 3,
   "metadata": {},
   "outputs": [],
   "source": [
    "import torch\n",
    "from torchvision import datasets, transforms"
   ]
  },
  {
   "cell_type": "code",
   "execution_count": 4,
   "metadata": {},
   "outputs": [],
   "source": [
    "transform = transforms.Compose([transforms.ToTensor(),transforms.Normalize((0.5, ), (0.5,))])\n",
    "mnist_trainset = datasets.MNIST(root='./data', train=True, download=True, transform=transform)\n",
    "mnist_testset = datasets.MNIST(root='./data', train=False, download=True, transform=transform)\n",
    "device =  torch.device(\"cuda:0\"\"cuda:0\" if torch.cuda.is_available() else \"cpu\")\n",
    "num_teachers = 100\n",
    "train_len = len(mnist_trainset)\n",
    "test_len = len(mnist_testset)"
   ]
  },
  {
   "cell_type": "code",
   "execution_count": null,
   "metadata": {},
   "outputs": [],
   "source": [
    "def get_samples(num_teachers):\n",
    "    tam = len(mnist_trainset)\n",
    "    split= int(tam/num_teachers)\n",
    "    split_ini = split\n",
    "    indices = list(range(tam))\n",
    "    init=0\n",
    "    samples = []\n",
    "    for i in range(num_teachers):     \n",
    "        t_idx = indices[init:split]\n",
    "        t_sampler = SubsetRandomSampler(t_idx)\n",
    "        samples.append(t_sampler)\n",
    "        init = split\n",
    "        split = split+split_ini\n",
    "    return samples\n",
    "def create_teachers(samples):\n",
    "    teachers = []\n",
    "    for sample in samples:\n",
    "        loader = torch.utils.data.DataLoader(mnist_trainset, batch_size=32, sampler=sample)\n",
    "        t = teacher(loader, device)\n",
    "        teachers.append(t)    \n",
    "    return teachers\n",
    "\n",
    "samples = get_samples(num_teachers)\n",
    "teachers = create_teachers(samples)"
   ]
  }
 ],
 "metadata": {
  "kernelspec": {
   "display_name": "Python 3",
   "language": "python",
   "name": "python3"
  },
  "language_info": {
   "codemirror_mode": {
    "name": "ipython",
    "version": 3
   },
   "file_extension": ".py",
   "mimetype": "text/x-python",
   "name": "python",
   "nbconvert_exporter": "python",
   "pygments_lexer": "ipython3",
   "version": "3.6.5"
  }
 },
 "nbformat": 4,
 "nbformat_minor": 2
}
