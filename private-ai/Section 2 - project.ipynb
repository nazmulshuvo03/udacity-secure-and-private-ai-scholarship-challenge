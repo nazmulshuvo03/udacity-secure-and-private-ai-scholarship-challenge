{
 "cells": [
  {
   "cell_type": "code",
   "execution_count": 1,
   "metadata": {},
   "outputs": [],
   "source": [
    "import torch\n",
    "from torch import nn, optim\n",
    "import torch.nn.functional as F\n",
    "from torchvision import datasets, transforms\n",
    "import syft as sy"
   ]
  },
  {
   "cell_type": "code",
   "execution_count": 2,
   "metadata": {},
   "outputs": [],
   "source": [
    "hook = sy.TorchHook(torch)"
   ]
  },
  {
   "cell_type": "code",
   "execution_count": 3,
   "metadata": {},
   "outputs": [],
   "source": [
    "bob = sy.VirtualWorker(hook, id=\"bob\")\n",
    "alice = sy.VirtualWorker(hook, id=\"alice\")\n",
    "\n",
    "users = [bob, alice]"
   ]
  },
  {
   "cell_type": "code",
   "execution_count": 4,
   "metadata": {},
   "outputs": [],
   "source": [
    "transform = transforms.Compose([transforms.ToTensor(),transforms.Normalize((0.1307,), (0.3081,))])\n",
    "\n",
    "mnist_trainset = datasets.MNIST(root='../data', train=True, download=True, transform=transform)\n",
    "mnist_testset = datasets.MNIST(root='../data', train=False, download=True, transform=transform)\n",
    "\n",
    "# fed_train_loader = sy.FederatedDataLoader(mnist_trainset.federate((bob, alice)), batch_size=32, shuffle=True)\n",
    "train_loader = torch.utils.data.DataLoader(mnist_trainset, batch_size=32, shuffle=True)\n",
    "test_loader = torch.utils.data.DataLoader(mnist_testset, batch_size=32, shuffle=True)"
   ]
  },
  {
   "cell_type": "code",
   "execution_count": 14,
   "metadata": {},
   "outputs": [
    {
     "data": {
      "text/plain": [
       "(1875, 313, 10000)"
      ]
     },
     "execution_count": 14,
     "metadata": {},
     "output_type": "execute_result"
    }
   ],
   "source": [
    "len(train_loader), len(test_loader), len(mnist_testset)"
   ]
  },
  {
   "cell_type": "code",
   "execution_count": 8,
   "metadata": {},
   "outputs": [],
   "source": [
    "distributed_train_loader = []\n",
    "\n",
    "for batch_idx, (image, label) in enumerate(train_loader):\n",
    "    image = image.send(users[batch_idx % len(users)])\n",
    "    label = label.send(users[batch_idx % len(users)])\n",
    "    distributed_train_loader.append((image, label))"
   ]
  },
  {
   "cell_type": "code",
   "execution_count": 9,
   "metadata": {},
   "outputs": [],
   "source": [
    "class Network(nn.Module):\n",
    "    def __init__(self):\n",
    "        super(Network, self).__init__()\n",
    "        self.conv1 = nn.Conv2d(1, 10, kernel_size=5)\n",
    "        self.conv2 = nn.Conv2d(10, 20, kernel_size=5)\n",
    "        self.conv2_drop = nn.Dropout2d()\n",
    "        self.fc1 = nn.Linear(320, 50)\n",
    "        self.fc2 = nn.Linear(50, 10)\n",
    "\n",
    "    def forward(self, x):\n",
    "        x = F.relu(F.max_pool2d(self.conv1(x), 2))\n",
    "        x = F.relu(F.max_pool2d(self.conv2_drop(self.conv2(x)), 2))\n",
    "        x = x.view(-1, 320)\n",
    "        x = F.relu(self.fc1(x))\n",
    "        x = F.dropout(x, training=self.training)\n",
    "        x = self.fc2(x)\n",
    "        x = F.log_softmax(x, dim=1)\n",
    "        return x"
   ]
  },
  {
   "cell_type": "code",
   "execution_count": 10,
   "metadata": {},
   "outputs": [],
   "source": [
    "device = torch.device(\"cuda:0\" if torch.cuda.is_available() else \"cpu\")\n",
    "\n",
    "model = Network().to(device)\n",
    "criterion = nn.NLLLoss()\n",
    "optimizer = optim.SGD(model.parameters(), lr=0.003)"
   ]
  },
  {
   "cell_type": "code",
   "execution_count": 11,
   "metadata": {
    "scrolled": true
   },
   "outputs": [
    {
     "name": "stdout",
     "output_type": "stream",
     "text": [
      "Iteration: 1/10..  Training Loss: 1.126.. \n",
      "Iteration: 2/10..  Training Loss: 0.641.. \n",
      "Iteration: 3/10..  Training Loss: 0.630.. \n",
      "Iteration: 4/10..  Training Loss: 0.406.. \n",
      "Iteration: 5/10..  Training Loss: 0.342.. \n",
      "Iteration: 6/10..  Training Loss: 0.325.. \n",
      "Iteration: 7/10..  Training Loss: 0.424.. \n",
      "Iteration: 8/10..  Training Loss: 0.267.. \n",
      "Iteration: 9/10..  Training Loss: 0.338.. \n",
      "Iteration: 10/10..  Training Loss: 0.334.. \n"
     ]
    }
   ],
   "source": [
    "def train(model, dataloader, iterations=10):\n",
    "    for i in range(iterations):\n",
    "        model.train()\n",
    "        for data, label in dataloader:\n",
    "            model.send(data.location)\n",
    "            data, labels = data.to(device), label.to(device)\n",
    "            \n",
    "            optimizer.zero_grad()\n",
    "            \n",
    "            pred = model(data)\n",
    "            loss = criterion(pred, label)\n",
    "            loss.backward()\n",
    "            optimizer.step()\n",
    "            \n",
    "            model.get()\n",
    "            loss = loss.get()\n",
    "            \n",
    "        print(\"Iteration: {}/{}.. \".format(i+1, iterations),\n",
    "                  \"Training Loss: {:.3f}.. \".format(loss.item()))\n",
    "            \n",
    "        \n",
    "train(model, distributed_train_loader)"
   ]
  },
  {
   "cell_type": "code",
   "execution_count": 18,
   "metadata": {},
   "outputs": [
    {
     "name": "stdout",
     "output_type": "stream",
     "text": [
      "\n",
      "Average loss: 0.0000, Accuracy: 9704/10000 (97.04%)\n"
     ]
    }
   ],
   "source": [
    "def test(model, dataloader):\n",
    "    test_loss = 0\n",
    "    correct = 0\n",
    "\n",
    "    model.eval()\n",
    "    with torch.no_grad():\n",
    "        for data, labels in dataloader:\n",
    "            data, labels = data.to(device), labels.to(device)\n",
    "\n",
    "            output = model(data)\n",
    "            test_loss += criterion(output, labels).sum().item()\n",
    "\n",
    "            ps = output.argmax(1, keepdim=True)\n",
    "            correct += ps.eq(labels.view_as(ps)).sum().item()\n",
    "\n",
    "    test_loss /= len(dataloader.dataset)\n",
    "\n",
    "    print('\\nAverage loss: {:.4f}, Accuracy: {}/{} ({:.2f}%)'\n",
    "          .format(test_loss / len(dataloader.dataset), correct, len(dataloader.dataset), \n",
    "                  100. * correct / len(dataloader.dataset)))\n",
    "\n",
    "test(model, test_loader)"
   ]
  },
  {
   "cell_type": "code",
   "execution_count": null,
   "metadata": {},
   "outputs": [],
   "source": []
  }
 ],
 "metadata": {
  "kernelspec": {
   "display_name": "Python 3",
   "language": "python",
   "name": "python3"
  },
  "language_info": {
   "codemirror_mode": {
    "name": "ipython",
    "version": 3
   },
   "file_extension": ".py",
   "mimetype": "text/x-python",
   "name": "python",
   "nbconvert_exporter": "python",
   "pygments_lexer": "ipython3",
   "version": "3.6.5"
  }
 },
 "nbformat": 4,
 "nbformat_minor": 2
}
