{
 "cells": [
  {
   "cell_type": "markdown",
   "metadata": {},
   "source": [
    "# Privacy in MNIST Dataset"
   ]
  },
  {
   "cell_type": "code",
   "execution_count": 1,
   "metadata": {},
   "outputs": [],
   "source": [
    "import numpy as np\n",
    "import torch\n",
    "import torch.nn as nn\n",
    "import torch.nn.functional as F\n",
    "import torch.optim as optim\n",
    "from torchvision import datasets\n",
    "import torchvision.transforms as transforms\n",
    "from torch.utils.data import Subset"
   ]
  },
  {
   "cell_type": "code",
   "execution_count": 2,
   "metadata": {},
   "outputs": [
    {
     "data": {
      "text/plain": [
       "(60000, 10000)"
      ]
     },
     "execution_count": 2,
     "metadata": {},
     "output_type": "execute_result"
    }
   ],
   "source": [
    "# convert data to torch.FloatTensor\n",
    "transform = transforms.Compose([transforms.ToTensor(),transforms.Normalize((0.5, ), (0.5,))])\n",
    "\n",
    "# choose the training and test datasets\n",
    "train_data = datasets.MNIST(root='data', train=True, download=True, transform=transform)\n",
    "test_data = datasets.MNIST(root='data', train=False, download=True, transform=transform)\n",
    "\n",
    "len(train_data), len(test_data)"
   ]
  },
  {
   "cell_type": "code",
   "execution_count": 38,
   "metadata": {},
   "outputs": [
    {
     "data": {
      "text/plain": [
       "19"
      ]
     },
     "execution_count": 38,
     "metadata": {},
     "output_type": "execute_result"
    }
   ],
   "source": [
    "batch_size = 32\n",
    "num_teachers = 100\n",
    "\n",
    "def teacher_loader_fn(train_data, num_teachers):\n",
    "    teacher_loaders = []\n",
    "    data_size = len(train_data) // num_teachers\n",
    "\n",
    "    for i in range(num_teachers):\n",
    "        indices = list(range(i*data_size, (i+1)*data_size))\n",
    "        subset = Subset(train_data, indices)\n",
    "        loader = torch.utils.data.DataLoader(subset, batch_size=batch_size)\n",
    "        teacher_loaders.append(loader)\n",
    "\n",
    "    return teacher_loaders\n",
    "\n",
    "teacher_loaders = teacher_loader_fn(train_data, num_teachers)\n",
    "len(teacher_loaders[99])"
   ]
  },
  {
   "cell_type": "code",
   "execution_count": 39,
   "metadata": {},
   "outputs": [
    {
     "data": {
      "text/plain": [
       "(282, 32)"
      ]
     },
     "execution_count": 39,
     "metadata": {},
     "output_type": "execute_result"
    }
   ],
   "source": [
    "num_student_train_set = 9000\n",
    "\n",
    "student_train_data = Subset(test_data, list(range(num_student_train_set)))\n",
    "student_test_data = Subset(test_data, list(range(num_student_train_set, len(test_data))))\n",
    "\n",
    "student_train_loader = torch.utils.data.DataLoader(student_train_data, batch_size=batch_size)\n",
    "student_test_loader = torch.utils.data.DataLoader(student_test_data, batch_size=batch_size)\n",
    "\n",
    "len(student_train_loader), len(student_test_loader)"
   ]
  },
  {
   "cell_type": "code",
   "execution_count": 40,
   "metadata": {},
   "outputs": [],
   "source": [
    "class Network(nn.Module):\n",
    "    def __init__(self):\n",
    "        super(Network, self).__init__()\n",
    "        self.conv1 = nn.Conv2d(1, 10, kernel_size=5)\n",
    "        self.conv2 = nn.Conv2d(10, 20, kernel_size=5)\n",
    "        self.conv2_drop = nn.Dropout2d()\n",
    "        self.fc1 = nn.Linear(320, 50)\n",
    "        self.fc2 = nn.Linear(50, 10)\n",
    "\n",
    "    def forward(self, x):\n",
    "        x = F.relu(F.max_pool2d(self.conv1(x), 2))\n",
    "        x = F.relu(F.max_pool2d(self.conv2_drop(self.conv2(x)), 2))\n",
    "        x = x.view(-1, 320)\n",
    "        x = F.relu(self.fc1(x))\n",
    "        x = F.dropout(x, training=self.training)\n",
    "        x = self.fc2(x)\n",
    "        x = F.log_softmax(x, dim=1)\n",
    "        return x"
   ]
  },
  {
   "cell_type": "code",
   "execution_count": 46,
   "metadata": {},
   "outputs": [],
   "source": [
    "device = torch.device(\"cuda:0\" if torch.cuda.is_available() else \"cpu\")\n",
    "\n",
    "def train(model, trainloader, criterion, optimizer, epochs, print_every):\n",
    "    model.to(device)\n",
    "    # steps = 0\n",
    "    running_loss = 0\n",
    "    for e in range(epochs):\n",
    "        # Model in training mode, dropout is on\n",
    "        model.train()\n",
    "        for images, labels in trainloader:\n",
    "            images, labels = images.to(device), labels.to(device)\n",
    "            # steps += 1\n",
    "            \n",
    "            optimizer.zero_grad()\n",
    "            \n",
    "            output = model.forward(images)\n",
    "            loss = criterion(output, labels)\n",
    "            loss.backward()\n",
    "            optimizer.step()\n",
    "            \n",
    "            running_loss += loss.item()"
   ]
  },
  {
   "cell_type": "code",
   "execution_count": 47,
   "metadata": {},
   "outputs": [
    {
     "name": "stdout",
     "output_type": "stream",
     "text": [
      "100 techers trained\n"
     ]
    }
   ],
   "source": [
    "# Instantiate and train the models for each teacher\n",
    "lr=0.003\n",
    "epochs=10\n",
    "print_every=120\n",
    "\n",
    "def train_teachers(num_teachers):\n",
    "    models = []\n",
    "    for t in range(num_teachers):\n",
    "        model = Network()\n",
    "        criterion = nn.NLLLoss()\n",
    "        optimizer = optim.Adam(model.parameters(), lr)\n",
    "        train(model, teacher_loaders[t], criterion, optimizer, epochs, print_every)\n",
    "        models.append(model)\n",
    "    print(\"{} techers trained\".format(t+1))\n",
    "    return models\n",
    "\n",
    "teacher_models = train_teachers(num_teachers)"
   ]
  },
  {
   "cell_type": "code",
   "execution_count": 48,
   "metadata": {},
   "outputs": [],
   "source": [
    "def predict(model, dataloader):\n",
    "    outputs = torch.zeros(0, dtype=torch.long).to(device)\n",
    "    model.to(device)\n",
    "    model.eval()\n",
    "    for images, labels in dataloader:\n",
    "        images, labels = images.to(device), labels.to(device)\n",
    "        output = model.forward(images)\n",
    "        ps = torch.argmax(torch.exp(output), dim=1)\n",
    "        outputs = torch.cat((outputs, ps))\n",
    "    \n",
    "    return outputs"
   ]
  },
  {
   "cell_type": "code",
   "execution_count": 49,
   "metadata": {},
   "outputs": [
    {
     "data": {
      "text/plain": [
       "(100, 9000)"
      ]
     },
     "execution_count": 49,
     "metadata": {},
     "output_type": "execute_result"
    }
   ],
   "source": [
    "def prediction_fn(models, data_loader):\n",
    "    preds = torch.torch.zeros((len(models), num_student_train_set), dtype=torch.long)\n",
    "    for i, model in enumerate(models):\n",
    "        results = predict(model, data_loader)\n",
    "        preds[i] = results\n",
    "    return preds.numpy()\n",
    "preds = prediction_fn(teacher_models, student_train_loader)\n",
    "preds.shape"
   ]
  },
  {
   "cell_type": "code",
   "execution_count": 50,
   "metadata": {},
   "outputs": [
    {
     "data": {
      "text/plain": [
       "(9000,)"
      ]
     },
     "execution_count": 50,
     "metadata": {},
     "output_type": "execute_result"
    }
   ],
   "source": [
    "epsilon = 0.2\n",
    "\n",
    "def get_student_labels(preds, epsilon):\n",
    "    labels = np.array([]).astype(int)\n",
    "    for image_preds in np.transpose(preds):\n",
    "        label_counts = np.bincount(image_preds, minlength=10)\n",
    "        beta = 1 / epsilon\n",
    "\n",
    "        for i in range(len(label_counts)):\n",
    "            label_counts[i] += np.random.laplace(0, beta, 1)\n",
    "\n",
    "        new_label = np.argmax(label_counts)\n",
    "        labels = np.append(labels, new_label)\n",
    "    \n",
    "    return labels\n",
    "student_labels = get_student_labels(preds, epsilon)\n",
    "student_labels.shape"
   ]
  },
  {
   "cell_type": "code",
   "execution_count": 51,
   "metadata": {},
   "outputs": [
    {
     "name": "stdout",
     "output_type": "stream",
     "text": [
      "Data Independent Epsilon: 1451.5129254649705\n",
      "Data Dependent Epsilon: 12.587310509756408\n"
     ]
    }
   ],
   "source": [
    "from syft.frameworks.torch.differential_privacy import pate\n",
    "\n",
    "data_dep_eps, data_ind_eps = pate.perform_analysis(teacher_preds=preds, indices=student_labels, noise_eps=epsilon, delta=1e-5)\n",
    "print(\"Data Independent Epsilon:\", data_ind_eps)\n",
    "print(\"Data Dependent Epsilon:\", data_dep_eps)"
   ]
  },
  {
   "cell_type": "code",
   "execution_count": 52,
   "metadata": {},
   "outputs": [],
   "source": [
    "# removing the test data labels and adding student labels for every batch of student train loader\n",
    "def student_loader(student_train_loader, labels):\n",
    "    student_iterator = iter(student_train_loader)\n",
    "    for i, (data, _) in enumerate(student_iterator):\n",
    "        student_train_label = torch.from_numpy(labels[i*len(data):(i+1)*len(data)])\n",
    "        yield data, student_train_label"
   ]
  },
  {
   "cell_type": "code",
   "execution_count": 53,
   "metadata": {},
   "outputs": [
    {
     "name": "stdout",
     "output_type": "stream",
     "text": [
      "Epoch: 1/10..  Training Loss: 0.383..  Test Loss: 1.763..  Test Accuracy: 0.593\n",
      "Epoch: 1/10..  Training Loss: 0.254..  Test Loss: 0.844..  Test Accuracy: 0.774\n",
      "Epoch: 1/10..  Training Loss: 0.161..  Test Loss: 0.591..  Test Accuracy: 0.835\n",
      "Epoch: 1/10..  Training Loss: 0.108..  Test Loss: 0.427..  Test Accuracy: 0.889\n",
      "Epoch: 1/10..  Training Loss: 0.099..  Test Loss: 0.300..  Test Accuracy: 0.919\n",
      "Epoch: 2/10..  Training Loss: 0.102..  Test Loss: 0.305..  Test Accuracy: 0.922\n",
      "Epoch: 2/10..  Training Loss: 0.084..  Test Loss: 0.257..  Test Accuracy: 0.922\n",
      "Epoch: 2/10..  Training Loss: 0.075..  Test Loss: 0.242..  Test Accuracy: 0.929\n",
      "Epoch: 2/10..  Training Loss: 0.071..  Test Loss: 0.257..  Test Accuracy: 0.922\n",
      "Epoch: 2/10..  Training Loss: 0.053..  Test Loss: 0.246..  Test Accuracy: 0.931\n",
      "Epoch: 2/10..  Training Loss: 0.051..  Test Loss: 0.227..  Test Accuracy: 0.933\n",
      "Epoch: 3/10..  Training Loss: 0.104..  Test Loss: 0.235..  Test Accuracy: 0.931\n",
      "Epoch: 3/10..  Training Loss: 0.065..  Test Loss: 0.213..  Test Accuracy: 0.935\n",
      "Epoch: 3/10..  Training Loss: 0.066..  Test Loss: 0.216..  Test Accuracy: 0.936\n",
      "Epoch: 3/10..  Training Loss: 0.048..  Test Loss: 0.201..  Test Accuracy: 0.942\n",
      "Epoch: 3/10..  Training Loss: 0.046..  Test Loss: 0.204..  Test Accuracy: 0.942\n",
      "Epoch: 4/10..  Training Loss: 0.068..  Test Loss: 0.193..  Test Accuracy: 0.945\n",
      "Epoch: 4/10..  Training Loss: 0.066..  Test Loss: 0.188..  Test Accuracy: 0.946\n",
      "Epoch: 4/10..  Training Loss: 0.057..  Test Loss: 0.193..  Test Accuracy: 0.938\n",
      "Epoch: 4/10..  Training Loss: 0.057..  Test Loss: 0.185..  Test Accuracy: 0.940\n",
      "Epoch: 4/10..  Training Loss: 0.035..  Test Loss: 0.217..  Test Accuracy: 0.937\n",
      "Epoch: 4/10..  Training Loss: 0.042..  Test Loss: 0.199..  Test Accuracy: 0.943\n",
      "Epoch: 5/10..  Training Loss: 0.079..  Test Loss: 0.195..  Test Accuracy: 0.948\n",
      "Epoch: 5/10..  Training Loss: 0.057..  Test Loss: 0.178..  Test Accuracy: 0.949\n",
      "Epoch: 5/10..  Training Loss: 0.057..  Test Loss: 0.190..  Test Accuracy: 0.939\n",
      "Epoch: 5/10..  Training Loss: 0.044..  Test Loss: 0.197..  Test Accuracy: 0.938\n",
      "Epoch: 5/10..  Training Loss: 0.038..  Test Loss: 0.187..  Test Accuracy: 0.946\n",
      "Epoch: 5/10..  Training Loss: 0.035..  Test Loss: 0.187..  Test Accuracy: 0.947\n",
      "Epoch: 6/10..  Training Loss: 0.077..  Test Loss: 0.190..  Test Accuracy: 0.944\n",
      "Epoch: 6/10..  Training Loss: 0.047..  Test Loss: 0.168..  Test Accuracy: 0.953\n",
      "Epoch: 6/10..  Training Loss: 0.055..  Test Loss: 0.192..  Test Accuracy: 0.938\n",
      "Epoch: 6/10..  Training Loss: 0.037..  Test Loss: 0.185..  Test Accuracy: 0.946\n",
      "Epoch: 6/10..  Training Loss: 0.035..  Test Loss: 0.178..  Test Accuracy: 0.948\n",
      "Epoch: 7/10..  Training Loss: 0.056..  Test Loss: 0.166..  Test Accuracy: 0.953\n",
      "Epoch: 7/10..  Training Loss: 0.052..  Test Loss: 0.176..  Test Accuracy: 0.945\n",
      "Epoch: 7/10..  Training Loss: 0.051..  Test Loss: 0.173..  Test Accuracy: 0.951\n",
      "Epoch: 7/10..  Training Loss: 0.047..  Test Loss: 0.177..  Test Accuracy: 0.946\n",
      "Epoch: 7/10..  Training Loss: 0.030..  Test Loss: 0.188..  Test Accuracy: 0.943\n",
      "Epoch: 7/10..  Training Loss: 0.032..  Test Loss: 0.186..  Test Accuracy: 0.948\n",
      "Epoch: 8/10..  Training Loss: 0.082..  Test Loss: 0.193..  Test Accuracy: 0.951\n",
      "Epoch: 8/10..  Training Loss: 0.048..  Test Loss: 0.175..  Test Accuracy: 0.947\n",
      "Epoch: 8/10..  Training Loss: 0.046..  Test Loss: 0.196..  Test Accuracy: 0.940\n",
      "Epoch: 8/10..  Training Loss: 0.039..  Test Loss: 0.186..  Test Accuracy: 0.946\n",
      "Epoch: 8/10..  Training Loss: 0.034..  Test Loss: 0.182..  Test Accuracy: 0.946\n",
      "Epoch: 8/10..  Training Loss: 0.027..  Test Loss: 0.185..  Test Accuracy: 0.955\n",
      "Epoch: 9/10..  Training Loss: 0.077..  Test Loss: 0.190..  Test Accuracy: 0.942\n",
      "Epoch: 9/10..  Training Loss: 0.043..  Test Loss: 0.173..  Test Accuracy: 0.947\n",
      "Epoch: 9/10..  Training Loss: 0.044..  Test Loss: 0.165..  Test Accuracy: 0.946\n",
      "Epoch: 9/10..  Training Loss: 0.035..  Test Loss: 0.164..  Test Accuracy: 0.948\n",
      "Epoch: 9/10..  Training Loss: 0.030..  Test Loss: 0.172..  Test Accuracy: 0.955\n",
      "Epoch: 10/10..  Training Loss: 0.060..  Test Loss: 0.154..  Test Accuracy: 0.954\n",
      "Epoch: 10/10..  Training Loss: 0.048..  Test Loss: 0.158..  Test Accuracy: 0.953\n",
      "Epoch: 10/10..  Training Loss: 0.044..  Test Loss: 0.161..  Test Accuracy: 0.951\n",
      "Epoch: 10/10..  Training Loss: 0.042..  Test Loss: 0.170..  Test Accuracy: 0.950\n",
      "Epoch: 10/10..  Training Loss: 0.029..  Test Loss: 0.170..  Test Accuracy: 0.953\n",
      "Epoch: 10/10..  Training Loss: 0.029..  Test Loss: 0.185..  Test Accuracy: 0.951\n"
     ]
    }
   ],
   "source": [
    "student_model = Network()\n",
    "criterion = nn.NLLLoss()\n",
    "optimizer = optim.Adam(student_model.parameters(), lr=0.001)\n",
    "student_model.to(device)\n",
    "steps = 0\n",
    "running_loss = 0\n",
    "for e in range(epochs):\n",
    "    student_model.train()\n",
    "    train_loader = student_loader(student_train_loader, student_labels)\n",
    "    for images, labels in train_loader:\n",
    "        images, labels = images.to(device), labels.to(device)\n",
    "        steps += 1\n",
    "\n",
    "        optimizer.zero_grad()\n",
    "        output = student_model.forward(images)\n",
    "        loss = criterion(output, labels)\n",
    "        loss.backward()\n",
    "        optimizer.step()\n",
    "\n",
    "        running_loss += loss.item()\n",
    "        if steps % 50 == 0:\n",
    "            test_loss = 0\n",
    "            accuracy = 0\n",
    "            student_model.eval()\n",
    "            with torch.no_grad():\n",
    "                for images, labels in student_test_loader:\n",
    "                    images, labels = images.to(device), labels.to(device)\n",
    "                    log_ps = student_model(images)\n",
    "                    test_loss += criterion(log_ps, labels).item()\n",
    "                    \n",
    "                    ps = torch.exp(log_ps)\n",
    "                    top_p, top_class = ps.topk(1, dim=1)\n",
    "                    equals = top_class == labels.view(*top_class.shape)\n",
    "                    accuracy += torch.mean(equals.type(torch.FloatTensor))\n",
    "            student_model.train()\n",
    "            print(\"Epoch: {}/{}.. \".format(e+1, epochs),\n",
    "                  \"Training Loss: {:.3f}.. \".format(running_loss/len(student_train_loader)),\n",
    "                  \"Test Loss: {:.3f}.. \".format(test_loss/len(student_test_loader)),\n",
    "                  \"Test Accuracy: {:.3f}\".format(accuracy/len(student_test_loader)))\n",
    "            running_loss = 0"
   ]
  },
  {
   "cell_type": "code",
   "execution_count": 54,
   "metadata": {},
   "outputs": [
    {
     "name": "stdout",
     "output_type": "stream",
     "text": [
      "Test Loss: 10.536..  Test Accuracy: 29.094\n"
     ]
    }
   ],
   "source": [
    "single_model = teacher_models[99]\n",
    "single_model.eval()\n",
    "with torch.no_grad():\n",
    "    test_loss = 0\n",
    "    accuracy = 0\n",
    "    for images, labels in student_test_loader:\n",
    "        images, labels = images.to(device), labels.to(device)\n",
    "        log_ps = single_model(images)\n",
    "        test_loss += criterion(log_ps, labels).item()\n",
    "\n",
    "        # Accuracy\n",
    "        ps = torch.exp(log_ps)\n",
    "        top_p, top_class = ps.topk(1, dim=1)\n",
    "        equals = top_class == labels.view(*top_class.shape)\n",
    "        accuracy += torch.mean(equals.type(torch.FloatTensor))\n",
    "    single_model.train()\n",
    "    print(\"Test Loss: {:.3f}.. \".format(test_loss),\n",
    "          \"Test Accuracy: {:.3f}\".format(accuracy))"
   ]
  },
  {
   "cell_type": "code",
   "execution_count": null,
   "metadata": {},
   "outputs": [],
   "source": []
  }
 ],
 "metadata": {
  "kernelspec": {
   "display_name": "Python 3",
   "language": "python",
   "name": "python3"
  },
  "language_info": {
   "codemirror_mode": {
    "name": "ipython",
    "version": 3
   },
   "file_extension": ".py",
   "mimetype": "text/x-python",
   "name": "python",
   "nbconvert_exporter": "python",
   "pygments_lexer": "ipython3",
   "version": "3.6.5"
  }
 },
 "nbformat": 4,
 "nbformat_minor": 2
}
